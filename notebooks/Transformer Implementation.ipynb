{
 "cells": [
  {
   "cell_type": "markdown",
   "metadata": {},
   "source": [
    "# Implementation of a Transformer Architecture"
   ]
  },
  {
   "cell_type": "code",
   "execution_count": 45,
   "metadata": {},
   "outputs": [],
   "source": [
    "from math import sqrt\n",
    "\n",
    "import torch\n",
    "from torch import tensor, nn\n",
    "import torch.nn.functional as F"
   ]
  },
  {
   "cell_type": "code",
   "execution_count": 3,
   "metadata": {},
   "outputs": [],
   "source": [
    "from dataclasses import dataclass\n",
    "\n",
    "@dataclass\n",
    "class TransformerEncoderConfig:\n",
    "    vocab_size: int\n",
    "    max_len: int  # maximum number of tokens in a sequence\n",
    "    dim: int  # dimension of the embeddings\n",
    "    num_attention_heads: int\n",
    "    num_encoder_layers: int\n",
    "    intermediate_dim: int  # dimension of the hidden layer in the feed forward part of an encoder layer\n",
    "    hidden_dropout_prob: float  # dropout probability in the feed forward part of an encoder layer\n",
    "    layer_norm_eps: float = 1e-12  # layer normalization epsilon in the embedding layer"
   ]
  },
  {
   "cell_type": "code",
   "execution_count": 4,
   "metadata": {},
   "outputs": [],
   "source": [
    "def number_of_trainable_parameters(model: nn.Module) -> int:\n",
    "    return sum(p.numel() for p in model.parameters() if p.requires_grad)\n",
    "\n",
    "\n",
    "def scaled_dot_product_attention(query, key, value):\n",
    "    dim_k = query.size(-1)\n",
    "    scores = torch.bmm(query, key.transpose(1, 2)) / sqrt(dim_k)\n",
    "    weights = F.softmax(scores, dim=-1)\n",
    "    \n",
    "    return torch.bmm(weights, value)"
   ]
  },
  {
   "cell_type": "code",
   "execution_count": 5,
   "metadata": {},
   "outputs": [],
   "source": [
    "class AttentionHead(nn.Module):\n",
    "\n",
    "    def __init__(self, embedding_dim: int, head_dim: int):\n",
    "        super().__init__()\n",
    "\n",
    "        self.q = nn.Linear(embedding_dim, head_dim)\n",
    "        self.k = nn.Linear(embedding_dim, head_dim)\n",
    "        self.v = nn.Linear(embedding_dim, head_dim)\n",
    "    \n",
    "    def forward(self, hidden_state):\n",
    "        return scaled_dot_product_attention(\n",
    "            self.q(hidden_state),\n",
    "            self.k(hidden_state),\n",
    "            self.v(hidden_state)\n",
    "        )"
   ]
  },
  {
   "cell_type": "code",
   "execution_count": 26,
   "metadata": {},
   "outputs": [],
   "source": [
    "class MultiHeadAttention(nn.Module):\n",
    "\n",
    "    def __init__(self, config: TransformerEncoderConfig):\n",
    "        super().__init__()\n",
    "\n",
    "        head_dim = config.dim // config.num_attention_heads\n",
    "        assert head_dim * config.num_attention_heads == config.dim\n",
    "        \n",
    "        self.heads = nn.ModuleList(\n",
    "            [AttentionHead(config.dim, head_dim) for _ in range(config.num_attention_heads)]\n",
    "        )\n",
    "        self.output_linear = nn.Linear(config.dim, config.dim)\n",
    "\n",
    "    def forward(self, hidden_state):\n",
    "        x = torch.cat([head(hidden_state) for head in self.heads], dim=-1)\n",
    "        x = self.output_linear(x)\n",
    "        return x"
   ]
  },
  {
   "cell_type": "code",
   "execution_count": 27,
   "metadata": {},
   "outputs": [],
   "source": [
    "class FeedForward(nn.Module):\n",
    "\n",
    "    def __init__(self, config: TransformerEncoderConfig):\n",
    "        super().__init__()\n",
    "\n",
    "        self.linear_1 = nn.Linear(config.dim, config.intermediate_dim)\n",
    "        self.linear_2 = nn.Linear(config.intermediate_dim, config.dim)\n",
    "        self.gelu = nn.GELU()\n",
    "        self.dropout = nn.Dropout(config.hidden_dropout_prob)\n",
    "\n",
    "    def forward(self, x):\n",
    "        x = self.linear_1(x)\n",
    "        x = self.gelu(x)\n",
    "        x = self.linear_2(x)\n",
    "        x = self.dropout(x)\n",
    "        return x"
   ]
  },
  {
   "cell_type": "code",
   "execution_count": 32,
   "metadata": {},
   "outputs": [],
   "source": [
    "class TransformerEncoderLayer(nn.Module):\n",
    "    \n",
    "    def __init__(self, config: TransformerEncoderConfig):\n",
    "        super().__init__()\n",
    "\n",
    "        self.layer_norm_1 = nn.LayerNorm(config.dim)\n",
    "        self.layer_norm_2 = nn.LayerNorm(config.dim)\n",
    "        self.attention = MultiHeadAttention(config)\n",
    "        self.feed_forward = FeedForward(config)\n",
    "    \n",
    "    def forward(self, x):\n",
    "        # pre layer normalization with skip connections branching off before normalization\n",
    "        \n",
    "        hidden_state = self.layer_norm_1(x)\n",
    "        x = x + self.attention(hidden_state)\n",
    "        \n",
    "        hidden_state = self.layer_norm_2(x)\n",
    "        x = x + self.feed_forward(hidden_state)\n",
    "        \n",
    "        return x"
   ]
  },
  {
   "cell_type": "code",
   "execution_count": 33,
   "metadata": {},
   "outputs": [],
   "source": [
    "class Embeddings(nn.Module):\n",
    "\n",
    "    def __init__(self, config: TransformerEncoderConfig):\n",
    "        super().__init__()\n",
    "        \n",
    "        self.token_embeddings = nn.Embedding(config.vocab_size, config.dim)\n",
    "        self.position_embeddings = nn.Embedding(config.max_len, config.dim)\n",
    "        self.layer_norm = nn.LayerNorm(config.dim, eps=config.layer_norm_eps)\n",
    "        self.dropout = nn.Dropout()\n",
    "\n",
    "    def forward(self, input_ids):\n",
    "        # create position IDs\n",
    "        seq_length = input_ids.size(1)\n",
    "        position_ids = torch.arange(seq_length, dtype=torch.long).unsqueeze(0)\n",
    "        \n",
    "        token_embeddings = self.token_embeddings(input_ids)\n",
    "        position_embeddings = self.position_embeddings(position_ids)\n",
    "        \n",
    "        embeddings = token_embeddings + position_embeddings\n",
    "        embeddings = self.layer_norm(embeddings)\n",
    "        embeddings = self.dropout(embeddings)\n",
    "        \n",
    "        return embeddings"
   ]
  },
  {
   "cell_type": "code",
   "execution_count": 34,
   "metadata": {},
   "outputs": [],
   "source": [
    "class TransformerEncoder(nn.Module):\n",
    "    \n",
    "    def __init__(self, config: TransformerEncoderConfig):\n",
    "        super().__init__()\n",
    "        \n",
    "        self.embeddings = Embeddings(config)\n",
    "        self.layers = nn.ModuleList([TransformerEncoderLayer(config) for _ in range(config.num_encoder_layers)])\n",
    "    \n",
    "    def forward(self, x):\n",
    "        x = self.embeddings(x)\n",
    "        for layer in self.layers:\n",
    "            x = layer(x)\n",
    "        return x"
   ]
  },
  {
   "cell_type": "code",
   "execution_count": 60,
   "metadata": {},
   "outputs": [
    {
     "name": "stdout",
     "output_type": "stream",
     "text": [
      "Number of trainable parameters: 108,890,112\n",
      "Number of trainable parameters in embedding layer: 23,835,648\n",
      "Number of trainable parameters per encoder layer: 7,087,872\n"
     ]
    }
   ],
   "source": [
    "BERT_config = TransformerEncoderConfig(\n",
    "    vocab_size=30_522,\n",
    "    max_len=512,\n",
    "    dim=768,\n",
    "    num_attention_heads=12,\n",
    "    num_encoder_layers=12,\n",
    "    intermediate_dim=3072,  # usually 4 times dim\n",
    "    hidden_dropout_prob=0.1,\n",
    "    layer_norm_eps=1e-12,\n",
    ")\n",
    "\n",
    "encoder = TransformerEncoder(BERT_config)\n",
    "embeddings = encoder.embeddings\n",
    "first_encoder_layer = encoder.layers[0]\n",
    "print(f\"Number of trainable parameters: {number_of_trainable_parameters(encoder):,}\")\n",
    "print(f\"Number of trainable parameters in embedding layer: {number_of_trainable_parameters(embeddings):,}\")\n",
    "print(f\"Number of trainable parameters per encoder layer: {number_of_trainable_parameters(first_encoder_layer):,}\")"
   ]
  },
  {
   "cell_type": "code",
   "execution_count": 51,
   "metadata": {},
   "outputs": [
    {
     "data": {
      "text/plain": [
       "torch.Size([1, 5, 768])"
      ]
     },
     "execution_count": 51,
     "metadata": {},
     "output_type": "execute_result"
    }
   ],
   "source": [
    "example_input = tensor([[2051, 10029, 2066, 2019, 8612]])\n",
    "encoded_example_input = encoder(example_input)\n",
    "encoded_example_input.size()"
   ]
  },
  {
   "cell_type": "code",
   "execution_count": null,
   "metadata": {},
   "outputs": [],
   "source": []
  }
 ],
 "metadata": {
  "kernelspec": {
   "display_name": "transformer-architecture",
   "language": "python",
   "name": "python3"
  },
  "language_info": {
   "codemirror_mode": {
    "name": "ipython",
    "version": 3
   },
   "file_extension": ".py",
   "mimetype": "text/x-python",
   "name": "python",
   "nbconvert_exporter": "python",
   "pygments_lexer": "ipython3",
   "version": "3.11.6"
  }
 },
 "nbformat": 4,
 "nbformat_minor": 2
}
